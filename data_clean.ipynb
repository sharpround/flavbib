{
 "cells": [
  {
   "cell_type": "code",
   "execution_count": 1,
   "metadata": {
    "collapsed": false
   },
   "outputs": [],
   "source": [
    "## strip out extra lines between entries\n",
    "\n",
    "ft = open(\"tables.txt\", 'r', encoding=\"utf8\")\n",
    "ft_new = open(\"tables_clean.txt\", 'w', encoding=\"utf8\")\n",
    "\n",
    "line1 = ft.readline()\n",
    "line2 = ft.readline()\n",
    "isempty1 = line1.isspace()\n",
    "isempty2 = line2.isspace()\n",
    "\n",
    "ft_new.write(line1)\n",
    "for line3 in ft:\n",
    "    isempty3 = line3.isspace()\n",
    "    if (not isempty2) or isempty1 or isempty3:\n",
    "        ft_new.write(line2)\n",
    "    \n",
    "    line1 = line2\n",
    "    line2 = line3\n",
    "    isempty1 = isempty2\n",
    "    isempty2 = isempty3\n",
    "    \n",
    "ft_new.write(line3)\n",
    "\n",
    "ft.close()\n",
    "ft_new.close()"
   ]
  },
  {
   "cell_type": "code",
   "execution_count": 2,
   "metadata": {
    "collapsed": false
   },
   "outputs": [],
   "source": [
    "## input filename, output dictionary of {flavor: [text as list of lines]} pairs\n",
    "\n",
    "ft = open(\"tables_clean.txt\", 'r', encoding='utf8')\n",
    "\n",
    "lines = ft.readlines()\n",
    "\n",
    "flavor = lines[0].lower().rstrip()\n",
    "text = []\n",
    "flavor_dict = {}\n",
    "\n",
    "for i in range(1, len(lines)-1):\n",
    "    cur = lines[i].rstrip()\n",
    "    \n",
    "    if cur.isupper() and lines[i-1].isspace():# and lines[i+1].isspace():\n",
    "        flavor_dict[flavor] = text\n",
    "        flavor = cur.lower()\n",
    "        text = []\n",
    "    else:\n",
    "        text.append(cur)\n",
    "        \n",
    "ft.close()"
   ]
  },
  {
   "cell_type": "code",
   "execution_count": 3,
   "metadata": {
    "collapsed": false
   },
   "outputs": [
    {
     "data": {
      "text/plain": [
       "['Season: year-round',\n",
       " 'Botanical relatives: chives, leeks, onions, shallots',\n",
       " 'Function: heating',\n",
       " 'Weight: light–medium',\n",
       " 'Volume: moderate (esp. cooked)–loud (esp. raw)',\n",
       " 'Techniques: grill, raw, roast, sauté',\n",
       " '',\n",
       " '',\n",
       " 'almonds',\n",
       " 'anchovies',\n",
       " 'bacon',\n",
       " 'barbecue',\n",
       " 'basil',\n",
       " 'bay leaf',\n",
       " 'beans',\n",
       " 'beef',\n",
       " 'beets',\n",
       " 'bread',\n",
       " 'broccoli',\n",
       " 'cabbage',\n",
       " 'Cajun cuisine',\n",
       " 'caraway seeds',\n",
       " 'cayenne',\n",
       " 'cheese, Parmesan',\n",
       " 'chicken',\n",
       " 'chile peppers',\n",
       " 'Chinese cuisine',\n",
       " 'chives',\n",
       " 'cilantro',\n",
       " 'coriander',\n",
       " 'cream, half-and-half',\n",
       " 'Creole cuisine',\n",
       " 'cumin',\n",
       " 'curries',\n",
       " 'eggplant',\n",
       " 'eggs',\n",
       " 'fennel',\n",
       " 'fennel seeds',\n",
       " 'fish',\n",
       " 'French cuisine',\n",
       " 'ginger',\n",
       " 'Indian cuisine',\n",
       " 'Italian cuisine',\n",
       " 'Korean cuisine',\n",
       " 'lamb',\n",
       " 'leeks',\n",
       " 'LEMON: juice, zest',\n",
       " 'lemongrass',\n",
       " 'lentils',\n",
       " 'lime, juice',\n",
       " 'mayonnaise',\n",
       " 'meats',\n",
       " 'Mediterranean cuisine',\n",
       " 'Mexican cuisine',\n",
       " 'Middle Eastern cuisine',\n",
       " 'Moroccan cuisine',\n",
       " 'mushrooms',\n",
       " 'mustard',\n",
       " 'oil: canola, peanut',\n",
       " 'OLIVE OIL',\n",
       " 'onions',\n",
       " 'oregano',\n",
       " 'paprika, esp. sweet',\n",
       " 'parsley, flat-leaf',\n",
       " 'pasta and pasta sauces',\n",
       " 'pepper: black, white',\n",
       " 'pesto (key ingredient)',\n",
       " 'pork',\n",
       " 'potatoes',\n",
       " 'rice',\n",
       " 'rosemary',\n",
       " 'saffron',\n",
       " 'sage',\n",
       " 'salads (e.g., Caesar)',\n",
       " 'salt',\n",
       " 'sauces',\n",
       " 'shallots',\n",
       " 'shellfish',\n",
       " 'shrimp',\n",
       " 'soups',\n",
       " 'soy sauce',\n",
       " 'spinach',\n",
       " 'steak',\n",
       " 'stocks: chicken, vegetable',\n",
       " 'sugar',\n",
       " 'tarragon',\n",
       " 'Thai cuisine',\n",
       " 'thyme',\n",
       " 'TOMATOES AND TOMATO SAUCE',\n",
       " 'vegetables',\n",
       " 'Vietnamese cuisine',\n",
       " 'VINEGAR, esp. balsamic, red wine',\n",
       " 'wine, white',\n",
       " 'zucchini',\n",
       " '',\n",
       " '',\n",
       " '',\n",
       " '',\n",
       " 'When garlic needs to be there, it needs to be there. That includes a lot of dishes, such as lamb. Garlic is also called for with all kinds of vegetables, sauces, pastas, and salads.',\n",
       " '—DAVID WALTUCK, CHANTERELLE (NEW YORK CITY)',\n",
       " '',\n",
       " '',\n",
       " '',\n",
       " 'I use garlic primarily in two ways: infused into olive oil, or served crispy as a garnish. I’ll use the garlic oil for cooking—and even if a dish will have garlic added later, I will start with this oil. For crispy brown garlic, you start by slicing it thinly like a chip. The garlic is then put into cold olive oil and cooked until it is just brown. Then, you add parsley, red pepper flakes, and an acid like lemon juice or vinegar to make a vinaigrette. You can even add some stock like a fumet, which is wonderful, too—served hot, it is great with almost any kind of fish, from something light all the way to oily blue fish.',\n",
       " '—ALEXANDRA RAIJ, TÍA POL (NEW YORK CITY)',\n",
       " '',\n",
       " '',\n",
       " '',\n",
       " '',\n",
       " '']"
      ]
     },
     "execution_count": 3,
     "metadata": {},
     "output_type": "execute_result"
    }
   ],
   "source": [
    "flavor_dict['garlic']"
   ]
  },
  {
   "cell_type": "code",
   "execution_count": 4,
   "metadata": {
    "collapsed": false
   },
   "outputs": [],
   "source": [
    "## pull out quotations and recommended dishes and put in separate dictionary\n",
    "## can we distinguish \"dishes\" from other quotations?\n",
    "\n",
    "quotation_dict = {}\n",
    "for flavor in flavor_dict:\n",
    "    lines = flavor_dict[flavor]\n",
    "    q = []\n",
    "    ftext = []\n",
    "    quotation_dict[flavor] = {'author': [], 'quotation': []}\n",
    "    for l in lines:\n",
    "        if not l:\n",
    "            if q and \"Dishes\" not in q: ftext.append(q)\n",
    "            q = []\n",
    "        elif \"\\u2014\" in l[0]:\n",
    "            quotation_dict[flavor]['quotation'].append(q)\n",
    "            quotation_dict[flavor]['author'].append(l[1:])\n",
    "            q = []\n",
    "        else:\n",
    "            q.append(l)\n",
    "    flavor_dict[flavor] = ftext"
   ]
  },
  {
   "cell_type": "code",
   "execution_count": 5,
   "metadata": {
    "collapsed": false
   },
   "outputs": [],
   "source": [
    "## strip out Flavor Affinities and put in separate dictionary\n",
    "\n",
    "import itertools\n",
    "\n",
    "affinity_dict = {}\n",
    "for flavor in flavor_dict:\n",
    "    lines = list(itertools.chain.from_iterable(flavor_dict[flavor]))\n",
    "#     lines = flavor_dict[flavor]\n",
    "    flaf = []\n",
    "    ftext = []\n",
    "    for l in lines:\n",
    "        if \"+\" in l:\n",
    "            flaf.append(l)\n",
    "        elif \"Flavor Affinit\" not in l:\n",
    "            ftext.append(l)\n",
    "    flavor_dict[flavor] = ftext\n",
    "    affinity_dict[flavor] = flaf"
   ]
  },
  {
   "cell_type": "code",
   "execution_count": 6,
   "metadata": {
    "collapsed": true
   },
   "outputs": [],
   "source": [
    "## strip out \"Avoid\" and put in separate dictionary\n",
    "\n",
    "avoid_dict = {}\n",
    "for flavor in flavor_dict:\n",
    "    ftext = []\n",
    "    avoid = []\n",
    "    is_avoid = False\n",
    "    for l in flavor_dict[flavor]:\n",
    "        if is_avoid:\n",
    "            avoid.append(l)\n",
    "        elif \"AVOID\" in l:\n",
    "            is_avoid = True\n",
    "        else:\n",
    "            ftext.append(l)\n",
    "    flavor_dict[flavor] = ftext\n",
    "    avoid_dict[flavor] = avoid"
   ]
  },
  {
   "cell_type": "code",
   "execution_count": 9,
   "metadata": {
    "collapsed": false
   },
   "outputs": [],
   "source": [
    "## strip out Pairings and put in separate dictionary)\n",
    "\n",
    "pairing_dict = {}\n",
    "keywords = [\"Season:\", \"Taste:\", \"Function:\", \"Weight:\", \"Volume:\", \"Techniques:\", \"Tips:\", \"Techniques/Tips:\", \"(See\"] \n",
    "for flavor in flavor_dict:\n",
    "    plist = []\n",
    "    ftext = []\n",
    "    for l in flavor_dict[flavor]:\n",
    "        if l.split()[0] in keywords:\n",
    "            ftext.append(l)\n",
    "        elif len(l.lstrip().rstrip())>1:\n",
    "            plist.append(l)\n",
    "    pairing_dict[flavor] = plist\n",
    "    flavor_dict[flavor] = ftext"
   ]
  },
  {
   "cell_type": "code",
   "execution_count": 10,
   "metadata": {
    "collapsed": false
   },
   "outputs": [],
   "source": [
    "## serialize dictionaries and save\n",
    "\n",
    "import pickle\n",
    "\n",
    "f_affinity = open(\"affinity.pickle\", 'wb')\n",
    "f_pairing = open(\"pairing.pickle\", 'wb')\n",
    "f_avoid = open(\"avoid.pickle\", 'wb')\n",
    "f_quotation = open(\"quotation.pickle\", 'wb')\n",
    "f_flavor = open(\"flavor.pickle\", 'wb')\n",
    "\n",
    "pickle.dump(affinity_dict, f_affinity)\n",
    "pickle.dump(pairing_dict, f_pairing)\n",
    "pickle.dump(avoid_dict, f_avoid)\n",
    "pickle.dump(quotation_dict, f_quotation)\n",
    "pickle.dump(flavor_dict, f_flavor)\n",
    "\n",
    "f_affinity.close()\n",
    "f_pairing.close()\n",
    "f_avoid.close()\n",
    "f_quotation.close()\n",
    "f_flavor.close()"
   ]
  },
  {
   "cell_type": "code",
   "execution_count": 11,
   "metadata": {
    "collapsed": false
   },
   "outputs": [
    {
     "data": {
      "text/plain": [
       "['(See also Lettuces—Bitter Greens and Chicories)',\n",
       " 'Season: spring–summer',\n",
       " 'Taste: bitter',\n",
       " 'Weight: light–medium',\n",
       " 'Volume: moderate–loud',\n",
       " 'Techniques: braise, raw (salads), sauté, soups, wilt']"
      ]
     },
     "execution_count": 11,
     "metadata": {},
     "output_type": "execute_result"
    }
   ],
   "source": [
    "flavor_dict['arugula']"
   ]
  },
  {
   "cell_type": "code",
   "execution_count": 16,
   "metadata": {
    "collapsed": false
   },
   "outputs": [
    {
     "data": {
      "text/plain": [
       "['almonds',\n",
       " 'basil',\n",
       " 'beans, white',\n",
       " 'bell peppers, esp. red',\n",
       " 'cheese: Cabrales, feta, goat, mozzarella, Parmesan',\n",
       " 'chicken',\n",
       " 'cilantro',\n",
       " 'clams',\n",
       " 'corn',\n",
       " 'cucumbers',\n",
       " 'dill',\n",
       " 'eggs, esp. hard-boiled',\n",
       " 'endive',\n",
       " 'fennel',\n",
       " 'fish (e.g., salmon, tuna)',\n",
       " 'garlic',\n",
       " 'grapes',\n",
       " 'Italian cuisine',\n",
       " 'lemon juice',\n",
       " 'lettuces',\n",
       " 'lovage',\n",
       " 'Mediterranean cuisine',\n",
       " 'mesclun salad greens (key ingredient)',\n",
       " 'mint',\n",
       " 'mushrooms',\n",
       " 'mussels',\n",
       " 'nuts',\n",
       " 'olive oil',\n",
       " 'olives, black',\n",
       " 'oranges, esp. blood',\n",
       " 'pancetta',\n",
       " 'parsley',\n",
       " 'pasta',\n",
       " 'pears',\n",
       " 'pesto',\n",
       " 'pine nuts',\n",
       " 'potatoes',\n",
       " 'prosciutto',\n",
       " 'radicchio',\n",
       " 'radishes',\n",
       " 'risotto',\n",
       " 'salads and salad greens',\n",
       " 'salt, esp. sea',\n",
       " 'shallots',\n",
       " 'shellfish (e.g., shrimp)',\n",
       " 'tomatoes',\n",
       " 'tuna',\n",
       " 'vinaigrettes',\n",
       " 'vinegar: balsamic, champagne, red wine, sherry, white wine',\n",
       " 'watercress']"
      ]
     },
     "execution_count": 16,
     "metadata": {},
     "output_type": "execute_result"
    }
   ],
   "source": [
    "pairing_dict['arugula']"
   ]
  },
  {
   "cell_type": "code",
   "execution_count": 13,
   "metadata": {
    "collapsed": false
   },
   "outputs": [
    {
     "data": {
      "text/plain": [
       "True"
      ]
     },
     "execution_count": 13,
     "metadata": {},
     "output_type": "execute_result"
    }
   ],
   "source": [
    "\"(See\" in \"(See also Lettuces—Bitter Greens and Chicories)\".split()"
   ]
  },
  {
   "cell_type": "code",
   "execution_count": null,
   "metadata": {
    "collapsed": true
   },
   "outputs": [],
   "source": []
  }
 ],
 "metadata": {
  "kernelspec": {
   "display_name": "Python 3",
   "language": "python",
   "name": "python3"
  },
  "language_info": {
   "codemirror_mode": {
    "name": "ipython",
    "version": 3
   },
   "file_extension": ".py",
   "mimetype": "text/x-python",
   "name": "python",
   "nbconvert_exporter": "python",
   "pygments_lexer": "ipython3",
   "version": "3.4.4"
  }
 },
 "nbformat": 4,
 "nbformat_minor": 0
}
