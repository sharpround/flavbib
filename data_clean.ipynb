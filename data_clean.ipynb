{
 "cells": [
  {
   "cell_type": "code",
   "execution_count": 96,
   "metadata": {
    "collapsed": true
   },
   "outputs": [],
   "source": [
    "import itertools"
   ]
  },
  {
   "cell_type": "code",
   "execution_count": 1,
   "metadata": {
    "collapsed": false
   },
   "outputs": [],
   "source": [
    "## strip out extra lines between entries\n",
    "## todo: convert to regex\n",
    "\n",
    "ft = open(\"tables.txt\", 'r', encoding=\"utf8\")\n",
    "ft_new = open(\"tables_clean.txt\", 'w', encoding=\"utf8\")\n",
    "\n",
    "line1 = ft.readline()\n",
    "line2 = ft.readline()\n",
    "isempty1 = line1.isspace()\n",
    "isempty2 = line2.isspace()\n",
    "\n",
    "ft_new.write(line1)\n",
    "for line3 in ft:\n",
    "    isempty3 = line3.isspace()\n",
    "    if (not isempty2) or isempty1 or isempty3:\n",
    "        ft_new.write(line2)\n",
    "    \n",
    "    line1 = line2\n",
    "    line2 = line3\n",
    "    isempty1 = isempty2\n",
    "    isempty2 = isempty3\n",
    "    \n",
    "ft_new.write(line3)\n",
    "\n",
    "ft.close()\n",
    "ft_new.close()"
   ]
  },
  {
   "cell_type": "code",
   "execution_count": null,
   "metadata": {
    "collapsed": true
   },
   "outputs": [],
   "source": [
    "## save each entry as separate text file\n",
    "ft = open(\"tables_clean.txt\", 'r')\n",
    "l = []\n",
    "\n",
    "    "
   ]
  },
  {
   "cell_type": "code",
   "execution_count": 37,
   "metadata": {
    "collapsed": false
   },
   "outputs": [],
   "source": [
    "# ## strip out quotations and save to new file\n",
    "# ft = open(\"tables_clean.txt\", 'r', encoding='utf8')\n",
    "# ft_new = open(\"tables_noquotes.txt\", 'w', encoding='utf8')\n",
    "# ft_quotes = open(\"quotations.txt\", 'w')\n",
    "\n",
    "# line1 = ft.readline()\n",
    "\n",
    "# for line2 in ft:\n",
    "\n",
    "#     if \"\\u2014\" in line2[0]: # \\u2014 is em dash\n",
    "# #         print(line1, line2)\n",
    "#         ft_quotes.writelines([line1, line2, \"\\n\"])\n",
    "#         line1 = ft.readline()\n",
    "#     else:  \n",
    "#         ft_new.write(line1)\n",
    "#         line1 = line2;\n",
    "\n",
    "# ft.close()\n",
    "# ft_new.close()\n",
    "# ft_quotes.close()"
   ]
  },
  {
   "cell_type": "code",
   "execution_count": 74,
   "metadata": {
    "collapsed": false
   },
   "outputs": [],
   "source": [
    "## input filename, output dictionary of {flavor: [text as list of lines]} pairs\n",
    "ft = open(\"tables_clean.txt\", 'r', encoding='utf8')\n",
    "\n",
    "lines = ft.readlines()\n",
    "\n",
    "flavor = lines[0].lower()\n",
    "text = []\n",
    "flavor_dict = {}\n",
    "\n",
    "for i in range(1, len(lines)-1):\n",
    "    cur = lines[i].rstrip()\n",
    "    \n",
    "    if cur.isupper() and lines[i-1].isspace() and lines[i+1].isspace():\n",
    "        flavor_dict[flavor] = text\n",
    "        flavor = cur.lower()\n",
    "        text = []\n",
    "    else:\n",
    "        text.append(cur)\n",
    "        \n",
    "ft.close()"
   ]
  },
  {
   "cell_type": "code",
   "execution_count": 76,
   "metadata": {
    "collapsed": false
   },
   "outputs": [],
   "source": [
    "## pull out quotations and recommended dishes and put in separate dictionary\n",
    "## can we distinguish \"dishes\" from other quotations?\n",
    "quotation_dict = {}\n",
    "for flavor in flavor_dict:\n",
    "    lines = flavor_dict[flavor]\n",
    "    q = []\n",
    "    ftext = []\n",
    "    quotation_dict[flavor] = {'author': [], 'quotation': []}\n",
    "    for l in lines:\n",
    "        if not l:\n",
    "            if q and \"Dishes\" not in q: ftext.append(q)\n",
    "            q = []\n",
    "        elif \"\\u2014\" in l[0]:\n",
    "            quotation_dict[flavor]['quotation'].append(q)\n",
    "            quotation_dict[flavor]['author'].append(l[1:])\n",
    "            q = []\n",
    "        else:\n",
    "            q.append(l)\n",
    "    flavor_dict[flavor] = ftext"
   ]
  },
  {
   "cell_type": "code",
   "execution_count": 102,
   "metadata": {
    "collapsed": false
   },
   "outputs": [],
   "source": [
    "## strip out Flavor Affinities and put in separate dictionary\n",
    "affinity_dict = {}\n",
    "for flavor in flavor_dict:\n",
    "    lines = list(itertools.chain.from_iterable(flavor_dict[flavor]))\n",
    "#     lines = flavor_dict[flavor]\n",
    "    flaf = []\n",
    "    ftext = []\n",
    "    is_flavor_affinity = False\n",
    "    for l in lines:\n",
    "        if \"+\" in l:\n",
    "            flaf.append(l)\n",
    "        elif \"Flavor Affinit\" not in l:\n",
    "            ftext.append(l)\n",
    "    flavor_dict[flavor] = ftext\n",
    "    affinity_dict[flavor] = flaf"
   ]
  },
  {
   "cell_type": "code",
   "execution_count": 59,
   "metadata": {
    "collapsed": false
   },
   "outputs": [
    {
     "name": "stdout",
     "output_type": "stream",
     "text": [
      "JOSÉ ANDRÉS, CAFÉ ATLÁNTICO (WASHINGTON, DC) \n",
      " ['I have always been very fond of chef Frédy Girardet [who earned three Michelin stars at his restaurant in Switzerland before retiring in 1996]. When I was young, I cooked almost every recipe from his book and visited his restaurant. One of his most interesting desserts was an apple dessert made of apples in the shape of little balls. The dessert broke away from cooking apples whole in the traditional way, which alone inspired me. He cooked them over a very high heat for two minutes and put them into a red wine reduction that had cinnamon, orange peel, and sugar. This was put onto a sheet tray that needed to be shaken for an hour so the apples would not dry out. The apples would absorb these flavors like a sponge and would then be served with vanilla ice cream.', 'In that spirit, we transformed this dessert. We transformed the wine by “espherication” so that it creates a bubble of liquid that explodes in your mouth. We cut apples with a melon baller, then vacuum-packed the apples with the wine but cooked it in such a way that the apples stayed hard and absorbed the wine flavor.']\n"
     ]
    }
   ],
   "source": [
    "print(quotation_dict['apples']['author'][7], \"\\n\", quotation_dict['apples']['quotation'][7])"
   ]
  },
  {
   "cell_type": "code",
   "execution_count": 103,
   "metadata": {
    "collapsed": false
   },
   "outputs": [
    {
     "data": {
      "text/plain": [
       "['Season: autumn–winter',\n",
       " 'Taste: sweet',\n",
       " 'Weight: medium',\n",
       " 'Volume: quiet–moderate',\n",
       " 'Techniques: bake, deep-fry (e.g., as chips), grill, poach, raw, roast, sauté, stew',\n",
       " 'allspice',\n",
       " 'ALMONDS and almond paste',\n",
       " 'anise',\n",
       " 'apples: fruit, juice',\n",
       " 'apricots, esp. dried or pureed',\n",
       " 'arugula',\n",
       " 'bacon',\n",
       " 'basil',\n",
       " 'beets',\n",
       " 'blackberries',\n",
       " 'blueberries',\n",
       " 'borage',\n",
       " 'bourbon',\n",
       " 'brandy, esp. pear',\n",
       " 'butter, brown',\n",
       " 'BUTTER, unsalted',\n",
       " 'butterscotch',\n",
       " 'Calvados',\n",
       " 'CARAMEL',\n",
       " 'cardamom',\n",
       " 'cassis',\n",
       " 'celery',\n",
       " 'Champagne',\n",
       " 'CHEESE: BLUE, Brie, Cabrales, Cambozola, Camembert, Cantal, cheddar, feta, goat, Gorgonzola, Monterey Jack, Parmesan, pecorino, ricotta, Romano, ROQUEFORT, Stilton',\n",
       " 'cherries: dried, fresh',\n",
       " 'chestnuts',\n",
       " 'Chinese cuisine, esp. featuring Asian pears',\n",
       " 'CHOCOLATE, esp. dark, white',\n",
       " 'cider',\n",
       " 'CINNAMON',\n",
       " 'CLOVES',\n",
       " 'cranberries',\n",
       " 'cream and ice cream',\n",
       " 'cream cheese',\n",
       " 'crème anglaise',\n",
       " 'crème fraîche',\n",
       " 'custards',\n",
       " 'dates',\n",
       " 'dill',\n",
       " 'duck and duck confit',\n",
       " 'endive',\n",
       " 'fennel',\n",
       " 'figs',\n",
       " 'French cuisine',\n",
       " 'game',\n",
       " 'ginger',\n",
       " 'Grand Marnier',\n",
       " 'hazelnuts',\n",
       " 'HONEY',\n",
       " 'ice cream, vanilla',\n",
       " 'Italian cuisine',\n",
       " 'Kirsch',\n",
       " 'LEMON: JUICE, ZEST',\n",
       " 'liqueurs: almond, hazelnut, orange',\n",
       " 'macadamia nuts',\n",
       " 'mace',\n",
       " 'maple syrup',\n",
       " 'Marsala',\n",
       " 'MASCARPONE',\n",
       " 'meats, esp. fatty, grilled, and/or roasted',\n",
       " 'Mediterranean cuisine',\n",
       " 'mint (garnish)',\n",
       " 'mustard',\n",
       " 'nutmeg',\n",
       " 'nuts',\n",
       " 'oats',\n",
       " 'oil, canola',\n",
       " 'olive oil',\n",
       " 'onions, green',\n",
       " 'ORANGE: fruit, juice, zest',\n",
       " 'parsley, flat-leaf',\n",
       " 'passion fruit',\n",
       " 'peanuts',\n",
       " 'pear brandy',\n",
       " 'pear cider',\n",
       " 'pecans',\n",
       " 'pepper: black, white',\n",
       " 'pine nuts',\n",
       " 'pistachios',\n",
       " 'Poire William',\n",
       " 'pork',\n",
       " 'port: red, white',\n",
       " 'poultry',\n",
       " 'praline',\n",
       " 'prosciutto',\n",
       " 'prunes',\n",
       " 'quinces',\n",
       " 'radicchio',\n",
       " 'raisins',\n",
       " 'raspberries: fruit, puree',\n",
       " 'rhubarb',\n",
       " 'rice (e.g., pudding)',\n",
       " 'rosemary',\n",
       " 'rum',\n",
       " 'sabayon',\n",
       " 'salads: fruit, green',\n",
       " 'salt (pinch)',\n",
       " 'sour cream',\n",
       " 'squab',\n",
       " 'squash: butternut, winter',\n",
       " 'star anise',\n",
       " 'strawberries, esp. sauce',\n",
       " 'SUGAR: brown, white',\n",
       " 'sweet potatoes',\n",
       " 'toffee',\n",
       " 'VANILLA',\n",
       " 'VINEGAR: balsamic, champagne, sherry, white, white wine',\n",
       " 'WALNUTS',\n",
       " 'watercress',\n",
       " 'whiskey',\n",
       " 'WINE: red (e.g., Burgundy), strong red (e.g., Cabernet Sauvignon, Zinfandel), dry white (e.g., Riesling), sparkling (e.g., Champagne), sweet (e.g., ice wine)']"
      ]
     },
     "execution_count": 103,
     "metadata": {},
     "output_type": "execute_result"
    }
   ],
   "source": [
    "flavor_dict['pears']"
   ]
  },
  {
   "cell_type": "code",
   "execution_count": 104,
   "metadata": {
    "collapsed": false
   },
   "outputs": [
    {
     "data": {
      "text/plain": [
       "['pears + amaretto + hazelnuts',\n",
       " 'pears + arugula + Parmesan cheese + vinaigrette + walnuts',\n",
       " 'pears + bacon + bitter greens + goat cheese',\n",
       " 'pears + blue cheese + olive oil + red wine vinegar + watercress',\n",
       " 'pears + caramel + balsamic vinegar',\n",
       " 'pears + caramel + chestnuts + crème fraîche',\n",
       " 'pears + caramel + chocolate',\n",
       " 'pears + cinnamon + ginger + honey',\n",
       " 'pears + fennel + Parmesan cheese + balsamic vinegar + walnuts',\n",
       " 'pears + ginger + honey + vanilla',\n",
       " 'pears + Gorgonzola cheese + vinaigrette + walnuts',\n",
       " 'pears + honey + lime + vanilla',\n",
       " 'pears + honey + rosemary',\n",
       " 'pears + maple syrup + walnuts',\n",
       " 'pears + mascarpone + pistachios + red wine',\n",
       " 'pears + pecorino cheese + balsamic vinegar',\n",
       " 'pears + Roquefort cheese + sugar + vanilla + red wine',\n",
       " 'pears + Roquefort cheese + walnuts',\n",
       " 'pears + Stilton cheese + hazelnuts + balsamic vinegar']"
      ]
     },
     "execution_count": 104,
     "metadata": {},
     "output_type": "execute_result"
    }
   ],
   "source": [
    "affinity_dict['pears']"
   ]
  },
  {
   "cell_type": "code",
   "execution_count": null,
   "metadata": {
    "collapsed": true
   },
   "outputs": [],
   "source": []
  }
 ],
 "metadata": {
  "kernelspec": {
   "display_name": "Python 3",
   "language": "python",
   "name": "python3"
  },
  "language_info": {
   "codemirror_mode": {
    "name": "ipython",
    "version": 3
   },
   "file_extension": ".py",
   "mimetype": "text/x-python",
   "name": "python",
   "nbconvert_exporter": "python",
   "pygments_lexer": "ipython3",
   "version": "3.4.4"
  }
 },
 "nbformat": 4,
 "nbformat_minor": 0
}
