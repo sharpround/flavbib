{
 "cells": [
  {
   "cell_type": "code",
   "execution_count": 1,
   "metadata": {
    "collapsed": false
   },
   "outputs": [
    {
     "name": "stdout",
     "output_type": "stream",
     "text": [
      " Volume in drive C is Windows8_OS\n",
      " Volume Serial Number is B277-9DA9\n",
      "\n",
      " Directory of C:\\Users\\db161_000\\Dropbox\\Projects\\data_science\\flavor_bible\n",
      "\n",
      "2016-01-21  16:20    <DIR>          .\n",
      "2016-01-21  16:20    <DIR>          ..\n",
      "2016-01-21  16:19    <DIR>          .ipynb_checkpoints\n",
      "2016-01-21  16:20               581 data_clean.ipynb\n",
      "2016-01-21  13:52           842,141 full data.txt\n",
      "2016-01-21  13:57            16,576 index.txt\n",
      "2016-01-21  16:28               855 project plan.md\n",
      "2016-01-21  16:13           824,549 tables.txt\n",
      "2016-01-21  13:28           842,141 The Flavor Bible data.txt\n",
      "               6 File(s)      2,526,843 bytes\n",
      "               3 Dir(s)  23,093,280,768 bytes free\n"
     ]
    }
   ],
   "source": [
    "ls"
   ]
  },
  {
   "cell_type": "code",
   "execution_count": 8,
   "metadata": {
    "collapsed": false
   },
   "outputs": [],
   "source": [
    "## strip out extra lines between entries\n",
    "## todo: convert to regex\n",
    "\n",
    "ft = open(\"tables.txt\", 'r', encoding=\"utf8\")\n",
    "ft_new = open(\"tables_clean.txt\", 'w', encoding=\"utf8\")\n",
    "\n",
    "line1 = ft.readline()\n",
    "line2 = ft.readline()\n",
    "isempty1 = line1.isspace()\n",
    "isempty2 = line2.isspace()\n",
    "\n",
    "ft_new.write(line1)\n",
    "for line3 in ft:\n",
    "    isempty3 = line3.isspace()\n",
    "    if (not isempty2) or isempty1 or isempty3:\n",
    "        ft_new.write(line2)\n",
    "    \n",
    "    line1 = line2\n",
    "    line2 = line3\n",
    "    isempty1 = isempty2\n",
    "    isempty2 = isempty3\n",
    "    \n",
    "ft_new.write(line3)\n",
    "\n",
    "ft.close()\n",
    "ft_new.close()"
   ]
  },
  {
   "cell_type": "code",
   "execution_count": 37,
   "metadata": {
    "collapsed": false
   },
   "outputs": [],
   "source": [
    "## strip out quotations and save to new file\n",
    "ft = open(\"tables_clean.txt\", 'r', encoding='utf8')\n",
    "ft_new = open(\"tables_noquotes.txt\", 'w', encoding='utf8')\n",
    "ft_quotes = open(\"quotations.txt\", 'w')\n",
    "\n",
    "line1 = ft.readline()\n",
    "\n",
    "for line2 in ft:\n",
    "\n",
    "    if \"\\u2014\" in line2[0]: # \\u2014 is em dash\n",
    "#         print(line1, line2)\n",
    "        ft_quotes.writelines([line1, line2, \"\\n\"])\n",
    "        line1 = ft.readline()\n",
    "    else:  \n",
    "        ft_new.write(line1)\n",
    "        line1 = line2;\n",
    "\n",
    "ft.close()\n",
    "ft_new.close()\n",
    "ft_quotes.close()"
   ]
  },
  {
   "cell_type": "code",
   "execution_count": 33,
   "metadata": {
    "collapsed": true
   },
   "outputs": [],
   "source": [
    "## strip out flavor affinities and save to new file\n",
    "\n"
   ]
  }
 ],
 "metadata": {
  "kernelspec": {
   "display_name": "Python 3",
   "language": "python",
   "name": "python3"
  },
  "language_info": {
   "codemirror_mode": {
    "name": "ipython",
    "version": 3
   },
   "file_extension": ".py",
   "mimetype": "text/x-python",
   "name": "python",
   "nbconvert_exporter": "python",
   "pygments_lexer": "ipython3",
   "version": "3.4.4"
  }
 },
 "nbformat": 4,
 "nbformat_minor": 0
}
