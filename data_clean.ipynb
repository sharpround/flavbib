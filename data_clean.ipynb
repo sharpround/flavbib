{
 "cells": [
  {
   "cell_type": "code",
   "execution_count": 1,
   "metadata": {
    "collapsed": false
   },
   "outputs": [],
   "source": [
    "## strip out extra lines between entries\n",
    "## todo: convert to regex\n",
    "\n",
    "ft = open(\"tables.txt\", 'r', encoding=\"utf8\")\n",
    "ft_new = open(\"tables_clean.txt\", 'w', encoding=\"utf8\")\n",
    "\n",
    "line1 = ft.readline()\n",
    "line2 = ft.readline()\n",
    "isempty1 = line1.isspace()\n",
    "isempty2 = line2.isspace()\n",
    "\n",
    "ft_new.write(line1)\n",
    "for line3 in ft:\n",
    "    isempty3 = line3.isspace()\n",
    "    if (not isempty2) or isempty1 or isempty3:\n",
    "        ft_new.write(line2)\n",
    "    \n",
    "    line1 = line2\n",
    "    line2 = line3\n",
    "    isempty1 = isempty2\n",
    "    isempty2 = isempty3\n",
    "    \n",
    "ft_new.write(line3)\n",
    "\n",
    "ft.close()\n",
    "ft_new.close()"
   ]
  },
  {
   "cell_type": "code",
   "execution_count": null,
   "metadata": {
    "collapsed": true
   },
   "outputs": [],
   "source": [
    "## save each entry as separate text file\n",
    "ft = open(\"tables_clean.txt\", 'r')\n",
    "l = []\n",
    "\n",
    "    "
   ]
  },
  {
   "cell_type": "code",
   "execution_count": 37,
   "metadata": {
    "collapsed": false
   },
   "outputs": [],
   "source": [
    "## strip out quotations and save to new file\n",
    "ft = open(\"tables_clean.txt\", 'r', encoding='utf8')\n",
    "ft_new = open(\"tables_noquotes.txt\", 'w', encoding='utf8')\n",
    "ft_quotes = open(\"quotations.txt\", 'w')\n",
    "\n",
    "line1 = ft.readline()\n",
    "\n",
    "for line2 in ft:\n",
    "\n",
    "    if \"\\u2014\" in line2[0]: # \\u2014 is em dash\n",
    "#         print(line1, line2)\n",
    "        ft_quotes.writelines([line1, line2, \"\\n\"])\n",
    "        line1 = ft.readline()\n",
    "    else:  \n",
    "        ft_new.write(line1)\n",
    "        line1 = line2;\n",
    "\n",
    "ft.close()\n",
    "ft_new.close()\n",
    "ft_quotes.close()"
   ]
  },
  {
   "cell_type": "code",
   "execution_count": 2,
   "metadata": {
    "collapsed": true
   },
   "outputs": [],
   "source": [
    "## strip out flavor affinities and save to new file\n",
    "\n"
   ]
  },
  {
   "cell_type": "code",
   "execution_count": 36,
   "metadata": {
    "collapsed": false
   },
   "outputs": [],
   "source": [
    "## input filename, output dictionary of {flavor: [text as list of lines]} pairs\n",
    "\n",
    "ft = open(\"tables_clean.txt\", 'r', encoding='utf8')\n",
    "\n",
    "lines = ft.readlines()\n",
    "\n",
    "flavor = lines[0].lower()\n",
    "text = []\n",
    "flavor_dict = {}\n",
    "\n",
    "for i in range(1, len(lines)-1):\n",
    "    cur = lines[i].rstrip()\n",
    "    \n",
    "    if cur.isupper() and lines[i-1].isspace() and lines[i+1].isspace():\n",
    "        flavor_dict[flavor] = text\n",
    "        flavor = cur.lower()\n",
    "        text = []\n",
    "    else:\n",
    "        text.append(cur)\n",
    "        \n",
    "ft.close()"
   ]
  },
  {
   "cell_type": "code",
   "execution_count": 50,
   "metadata": {
    "collapsed": false
   },
   "outputs": [],
   "source": [
    "## pull out quotations and put in separate dictionary\n",
    "quotation_dict = {}\n",
    "for flavor in flavor_dict:\n",
    "    lines = flavor_dict[flavor]\n",
    "    q = []\n",
    "    quotation_dict[flavor] = {'author': [], 'quotation': []}\n",
    "    for l in lines:\n",
    "        if not l:\n",
    "            q = []\n",
    "        elif \"\\u2014\" in l[0]:\n",
    "            quotation_dict[flavor]['quotation'].append(q)\n",
    "            quotation_dict[flavor]['author'].append(l[1:])\n",
    "            q = []\n",
    "        else:\n",
    "            q.append(l)\n"
   ]
  },
  {
   "cell_type": "code",
   "execution_count": 59,
   "metadata": {
    "collapsed": false
   },
   "outputs": [
    {
     "name": "stdout",
     "output_type": "stream",
     "text": [
      "JOSÉ ANDRÉS, CAFÉ ATLÁNTICO (WASHINGTON, DC) \n",
      " ['I have always been very fond of chef Frédy Girardet [who earned three Michelin stars at his restaurant in Switzerland before retiring in 1996]. When I was young, I cooked almost every recipe from his book and visited his restaurant. One of his most interesting desserts was an apple dessert made of apples in the shape of little balls. The dessert broke away from cooking apples whole in the traditional way, which alone inspired me. He cooked them over a very high heat for two minutes and put them into a red wine reduction that had cinnamon, orange peel, and sugar. This was put onto a sheet tray that needed to be shaken for an hour so the apples would not dry out. The apples would absorb these flavors like a sponge and would then be served with vanilla ice cream.', 'In that spirit, we transformed this dessert. We transformed the wine by “espherication” so that it creates a bubble of liquid that explodes in your mouth. We cut apples with a melon baller, then vacuum-packed the apples with the wine but cooked it in such a way that the apples stayed hard and absorbed the wine flavor.']\n"
     ]
    }
   ],
   "source": [
    "print(quotation_dict['apples']['author'][7], \"\\n\", quotation_dict['apples']['quotation'][7])"
   ]
  },
  {
   "cell_type": "code",
   "execution_count": null,
   "metadata": {
    "collapsed": true
   },
   "outputs": [],
   "source": []
  }
 ],
 "metadata": {
  "kernelspec": {
   "display_name": "Python 3",
   "language": "python",
   "name": "python3"
  },
  "language_info": {
   "codemirror_mode": {
    "name": "ipython",
    "version": 3
   },
   "file_extension": ".py",
   "mimetype": "text/x-python",
   "name": "python",
   "nbconvert_exporter": "python",
   "pygments_lexer": "ipython3",
   "version": "3.4.4"
  }
 },
 "nbformat": 4,
 "nbformat_minor": 0
}
