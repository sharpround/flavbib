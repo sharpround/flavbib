{
 "cells": [
  {
   "cell_type": "code",
   "execution_count": 96,
   "metadata": {
    "collapsed": true
   },
   "outputs": [],
   "source": [
    "import itertools"
   ]
  },
  {
   "cell_type": "code",
   "execution_count": 141,
   "metadata": {
    "collapsed": false
   },
   "outputs": [],
   "source": [
    "## strip out extra lines between entries\n",
    "## todo: convert to regex\n",
    "\n",
    "ft = open(\"tables.txt\", 'r', encoding=\"utf8\")\n",
    "ft_new = open(\"tables_clean.txt\", 'w', encoding=\"utf8\")\n",
    "\n",
    "line1 = ft.readline()\n",
    "line2 = ft.readline()\n",
    "isempty1 = line1.isspace()\n",
    "isempty2 = line2.isspace()\n",
    "\n",
    "ft_new.write(line1)\n",
    "for line3 in ft:\n",
    "    isempty3 = line3.isspace()\n",
    "    if (not isempty2) or isempty1 or isempty3:\n",
    "        ft_new.write(line2)\n",
    "    \n",
    "    line1 = line2\n",
    "    line2 = line3\n",
    "    isempty1 = isempty2\n",
    "    isempty2 = isempty3\n",
    "    \n",
    "ft_new.write(line3)\n",
    "\n",
    "ft.close()\n",
    "ft_new.close()"
   ]
  },
  {
   "cell_type": "code",
   "execution_count": 142,
   "metadata": {
    "collapsed": true
   },
   "outputs": [],
   "source": [
    "# ## save each entry as separate text file\n",
    "# ft = open(\"tables_clean.txt\", 'r')\n",
    "# l = []\n",
    "\n",
    "    "
   ]
  },
  {
   "cell_type": "code",
   "execution_count": 143,
   "metadata": {
    "collapsed": false
   },
   "outputs": [],
   "source": [
    "# ## strip out quotations and save to new file\n",
    "# ft = open(\"tables_clean.txt\", 'r', encoding='utf8')\n",
    "# ft_new = open(\"tables_noquotes.txt\", 'w', encoding='utf8')\n",
    "# ft_quotes = open(\"quotations.txt\", 'w')\n",
    "\n",
    "# line1 = ft.readline()\n",
    "\n",
    "# for line2 in ft:\n",
    "\n",
    "#     if \"\\u2014\" in line2[0]: # \\u2014 is em dash\n",
    "# #         print(line1, line2)\n",
    "#         ft_quotes.writelines([line1, line2, \"\\n\"])\n",
    "#         line1 = ft.readline()\n",
    "#     else:  \n",
    "#         ft_new.write(line1)\n",
    "#         line1 = line2;\n",
    "\n",
    "# ft.close()\n",
    "# ft_new.close()\n",
    "# ft_quotes.close()"
   ]
  },
  {
   "cell_type": "code",
   "execution_count": 144,
   "metadata": {
    "collapsed": false
   },
   "outputs": [],
   "source": [
    "## input filename, output dictionary of {flavor: [text as list of lines]} pairs\n",
    "ft = open(\"tables_clean.txt\", 'r', encoding='utf8')\n",
    "\n",
    "lines = ft.readlines()\n",
    "\n",
    "flavor = lines[0].lower()\n",
    "text = []\n",
    "flavor_dict = {}\n",
    "\n",
    "for i in range(1, len(lines)-1):\n",
    "    cur = lines[i].rstrip()\n",
    "    \n",
    "    if cur.isupper() and lines[i-1].isspace() and lines[i+1].isspace():\n",
    "        flavor_dict[flavor] = text\n",
    "        flavor = cur.lower()\n",
    "        text = []\n",
    "    else:\n",
    "        text.append(cur)\n",
    "        \n",
    "ft.close()"
   ]
  },
  {
   "cell_type": "code",
   "execution_count": 145,
   "metadata": {
    "collapsed": false
   },
   "outputs": [],
   "source": [
    "## pull out quotations and recommended dishes and put in separate dictionary\n",
    "## can we distinguish \"dishes\" from other quotations?\n",
    "quotation_dict = {}\n",
    "for flavor in flavor_dict:\n",
    "    lines = flavor_dict[flavor]\n",
    "    q = []\n",
    "    ftext = []\n",
    "    quotation_dict[flavor] = {'author': [], 'quotation': []}\n",
    "    for l in lines:\n",
    "        if not l:\n",
    "            if q and \"Dishes\" not in q: ftext.append(q)\n",
    "            q = []\n",
    "        elif \"\\u2014\" in l[0]:\n",
    "            quotation_dict[flavor]['quotation'].append(q)\n",
    "            quotation_dict[flavor]['author'].append(l[1:])\n",
    "            q = []\n",
    "        else:\n",
    "            q.append(l)\n",
    "    flavor_dict[flavor] = ftext"
   ]
  },
  {
   "cell_type": "code",
   "execution_count": 146,
   "metadata": {
    "collapsed": false
   },
   "outputs": [],
   "source": [
    "## strip out Flavor Affinities and put in separate dictionary\n",
    "affinity_dict = {}\n",
    "for flavor in flavor_dict:\n",
    "    lines = list(itertools.chain.from_iterable(flavor_dict[flavor]))\n",
    "#     lines = flavor_dict[flavor]\n",
    "    flaf = []\n",
    "    ftext = []\n",
    "    for l in lines:\n",
    "        if \"+\" in l:\n",
    "            flaf.append(l)\n",
    "        elif \"Flavor Affinit\" not in l:\n",
    "            ftext.append(l)\n",
    "    flavor_dict[flavor] = ftext\n",
    "    affinity_dict[flavor] = flaf"
   ]
  },
  {
   "cell_type": "code",
   "execution_count": 147,
   "metadata": {
    "collapsed": true
   },
   "outputs": [],
   "source": [
    "## strip out \"Avoid\" and put in separate dictionary\n",
    "avoid_dict = {}\n",
    "for flavor in flavor_dict:\n",
    "    ftext = []\n",
    "    avoid = []\n",
    "    is_avoid = False\n",
    "    for l in flavor_dict[flavor]:\n",
    "        if is_avoid:\n",
    "            avoid.append(l)\n",
    "        elif \"AVOID\" in l:\n",
    "            is_avoid = True\n",
    "        else:\n",
    "            ftext.append(l)\n",
    "    flavor_dict[flavor] = ftext\n",
    "    avoid_dict[flavor] = avoid"
   ]
  },
  {
   "cell_type": "code",
   "execution_count": 148,
   "metadata": {
    "collapsed": false
   },
   "outputs": [],
   "source": [
    "## strip out Pairings and put in separate dictionary\n",
    "pairing_dict = {}\n",
    "keywords = [\"Season:\", \"Taste:\", \"Function:\", \"Weight:\", \"Volume:\", \"Techniques:\", \"Tips:\", \"Techniques/Tips:\"] \n",
    "for flavor in flavor_dict:\n",
    "    plist = []\n",
    "    ftext = []\n",
    "    for l in flavor_dict[flavor]:\n",
    "        if any(word in keywords for word in l.split()):\n",
    "            ftext.append(l)\n",
    "        else:\n",
    "            plist.append(l)\n",
    "    pairing_dict[flavor] = plist\n",
    "    flavor_dict[flavor] = ftext"
   ]
  },
  {
   "cell_type": "code",
   "execution_count": 149,
   "metadata": {
    "collapsed": false
   },
   "outputs": [
    {
     "name": "stdout",
     "output_type": "stream",
     "text": [
      "JOSÉ ANDRÉS, CAFÉ ATLÁNTICO (WASHINGTON, DC) \n",
      " ['I have always been very fond of chef Frédy Girardet [who earned three Michelin stars at his restaurant in Switzerland before retiring in 1996]. When I was young, I cooked almost every recipe from his book and visited his restaurant. One of his most interesting desserts was an apple dessert made of apples in the shape of little balls. The dessert broke away from cooking apples whole in the traditional way, which alone inspired me. He cooked them over a very high heat for two minutes and put them into a red wine reduction that had cinnamon, orange peel, and sugar. This was put onto a sheet tray that needed to be shaken for an hour so the apples would not dry out. The apples would absorb these flavors like a sponge and would then be served with vanilla ice cream.', 'In that spirit, we transformed this dessert. We transformed the wine by “espherication” so that it creates a bubble of liquid that explodes in your mouth. We cut apples with a melon baller, then vacuum-packed the apples with the wine but cooked it in such a way that the apples stayed hard and absorbed the wine flavor.']\n"
     ]
    }
   ],
   "source": [
    "print(quotation_dict['apples']['author'][7], \"\\n\", quotation_dict['apples']['quotation'][7])"
   ]
  },
  {
   "cell_type": "code",
   "execution_count": 150,
   "metadata": {
    "collapsed": false
   },
   "outputs": [
    {
     "data": {
      "text/plain": [
       "['beef, for religious reasons, say some',\n",
       " 'pork, for religious reasons, say some']"
      ]
     },
     "execution_count": 150,
     "metadata": {},
     "output_type": "execute_result"
    }
   ],
   "source": [
    "avoid_dict['indian cuisine']"
   ]
  },
  {
   "cell_type": "code",
   "execution_count": 151,
   "metadata": {
    "collapsed": false
   },
   "outputs": [
    {
     "data": {
      "text/plain": [
       "['apples + almonds + caramel',\n",
       " 'apples + almonds + Armagnac + crème fraîche + raisins',\n",
       " 'apples + apricots + pine nuts + rosemary',\n",
       " 'apples + brown sugar + cream + walnuts',\n",
       " 'apples + Calvados + cranberries + maple syrup',\n",
       " 'apples + caramel + cinnamon',\n",
       " 'apples + caramel + cinnamon + dates + lemon confit + quince + ras el hanout + vanilla',\n",
       " 'apples + caramel + peanuts',\n",
       " 'apples + caramel + pecans',\n",
       " 'apples + caramel + pistachios + vanilla',\n",
       " 'apples + celery + walnuts',\n",
       " 'apples + cinnamon + cranberries',\n",
       " 'apples + cinnamon + dark chocolate + yams',\n",
       " 'apples + cream + ginger',\n",
       " 'apples + ginger + hazelnuts',\n",
       " 'apples + ginger + lemon + quince + sugar',\n",
       " 'apples + honey + lemon thyme',\n",
       " 'apples + raisins + rum',\n",
       " 'apples + red cabbage + cinnamon']"
      ]
     },
     "execution_count": 151,
     "metadata": {},
     "output_type": "execute_result"
    }
   ],
   "source": [
    "affinity_dict['apples']"
   ]
  },
  {
   "cell_type": "code",
   "execution_count": 152,
   "metadata": {
    "collapsed": false
   },
   "outputs": [
    {
     "data": {
      "text/plain": [
       "['allspice',\n",
       " 'almonds',\n",
       " 'apple cider or juice',\n",
       " 'applejack',\n",
       " 'apricots: dried, jam, puree',\n",
       " 'Armagnac',\n",
       " 'bacon',\n",
       " 'bay leaf',\n",
       " 'beef',\n",
       " 'blackberries',\n",
       " 'bourbon',\n",
       " 'brandy, esp. apple',\n",
       " 'brioche',\n",
       " 'BUTTER, UNSALTED',\n",
       " 'butterscotch',\n",
       " 'cabbage, red',\n",
       " 'CALVADOS',\n",
       " 'CARAMEL',\n",
       " 'cardamom',\n",
       " 'celery',\n",
       " 'celery root',\n",
       " 'cheese: Camembert, cheddar, goat, Gruyère',\n",
       " 'cherries: dried, fresh',\n",
       " 'chestnuts',\n",
       " 'chicken',\n",
       " 'chives',\n",
       " 'cider',\n",
       " '*CINNAMON',\n",
       " 'cloves',\n",
       " 'cognac',\n",
       " 'Cointreau',\n",
       " 'coriander',\n",
       " 'cranberries',\n",
       " 'CREAM AND ICE CREAM',\n",
       " 'crème anglaise (sauce)',\n",
       " 'crème fraîche',\n",
       " 'crust: pastry, pie',\n",
       " 'cumin',\n",
       " 'currants, esp. black, and currant jelly',\n",
       " 'curry powder',\n",
       " 'custards',\n",
       " 'dates',\n",
       " 'duck',\n",
       " 'eggplant',\n",
       " 'fennel',\n",
       " 'French cuisine, esp. from Normandy',\n",
       " 'frisée',\n",
       " 'ginger',\n",
       " 'goose',\n",
       " 'hazelnuts',\n",
       " 'honey, esp. chestnut, wildflower',\n",
       " 'horseradish',\n",
       " 'ice cream',\n",
       " 'Kirsch',\n",
       " 'lavender',\n",
       " 'LEMON: JUICE, ZEST',\n",
       " 'lemon thyme',\n",
       " 'lychees',\n",
       " 'Madeira',\n",
       " 'maple syrup',\n",
       " 'mayonnaise',\n",
       " 'meringue',\n",
       " 'molasses',\n",
       " 'mustard',\n",
       " 'nutmeg',\n",
       " 'nuts',\n",
       " 'oatmeal and oats',\n",
       " 'oil: canola, hazelnut, walnut',\n",
       " 'olive oil',\n",
       " 'onions, esp. green, red',\n",
       " 'orange: juice, zest',\n",
       " 'parsley',\n",
       " 'peanuts and peanut butter',\n",
       " 'pears',\n",
       " 'pecans',\n",
       " 'pepper, black',\n",
       " 'pies',\n",
       " 'pineapple',\n",
       " 'pine nuts',\n",
       " 'pistachios',\n",
       " 'plums',\n",
       " 'pomegranates',\n",
       " 'pork',\n",
       " 'poultry',\n",
       " 'prunes',\n",
       " 'puff pastry',\n",
       " 'pumpkin',\n",
       " 'quince',\n",
       " 'raisins, esp. seedless, white',\n",
       " 'rhubarb',\n",
       " 'rice and rice pudding',\n",
       " 'rosemary',\n",
       " 'RUM: DARK, LIGHT',\n",
       " 'salads: fruit, green',\n",
       " 'salt, kosher',\n",
       " 'sauerkraut',\n",
       " 'sherry',\n",
       " 'soups',\n",
       " 'sour cream',\n",
       " 'star anise',\n",
       " 'SUGAR: BROWN, WHITE',\n",
       " 'sweet potatoes',\n",
       " 'tarragon',\n",
       " 'tarts',\n",
       " 'thyme',\n",
       " 'vanilla',\n",
       " 'verjus',\n",
       " 'vermouth',\n",
       " 'vinegar: apple cider, raspberry',\n",
       " 'WALNUTS',\n",
       " 'wine: red, dry white',\n",
       " 'yogurt']"
      ]
     },
     "execution_count": 152,
     "metadata": {},
     "output_type": "execute_result"
    }
   ],
   "source": [
    "pairing_dict['apples']"
   ]
  },
  {
   "cell_type": "code",
   "execution_count": 153,
   "metadata": {
    "collapsed": false
   },
   "outputs": [
    {
     "data": {
      "text/plain": [
       "['Season: autumn',\n",
       " 'Taste: sweet, astringent',\n",
       " 'Function: cooling',\n",
       " 'Weight: medium',\n",
       " 'Volume: quiet–moderate',\n",
       " 'Techniques: bake, caramelize, deep-fry (e.g., as fritters), grill, poach, raw, sauté, stew']"
      ]
     },
     "execution_count": 153,
     "metadata": {},
     "output_type": "execute_result"
    }
   ],
   "source": [
    "flavor_dict['apples']"
   ]
  },
  {
   "cell_type": "code",
   "execution_count": null,
   "metadata": {
    "collapsed": true
   },
   "outputs": [],
   "source": []
  }
 ],
 "metadata": {
  "kernelspec": {
   "display_name": "Python 3",
   "language": "python",
   "name": "python3"
  },
  "language_info": {
   "codemirror_mode": {
    "name": "ipython",
    "version": 3
   },
   "file_extension": ".py",
   "mimetype": "text/x-python",
   "name": "python",
   "nbconvert_exporter": "python",
   "pygments_lexer": "ipython3",
   "version": "3.4.4"
  }
 },
 "nbformat": 4,
 "nbformat_minor": 0
}
