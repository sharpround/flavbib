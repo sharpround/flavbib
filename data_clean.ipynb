{
 "cells": [
  {
   "cell_type": "code",
   "execution_count": 96,
   "metadata": {
    "collapsed": true
   },
   "outputs": [],
   "source": [
    "import itertools"
   ]
  },
  {
   "cell_type": "code",
   "execution_count": 141,
   "metadata": {
    "collapsed": false
   },
   "outputs": [],
   "source": [
    "## strip out extra lines between entries\n",
    "## todo: convert to regex\n",
    "\n",
    "ft = open(\"tables.txt\", 'r', encoding=\"utf8\")\n",
    "ft_new = open(\"tables_clean.txt\", 'w', encoding=\"utf8\")\n",
    "\n",
    "line1 = ft.readline()\n",
    "line2 = ft.readline()\n",
    "isempty1 = line1.isspace()\n",
    "isempty2 = line2.isspace()\n",
    "\n",
    "ft_new.write(line1)\n",
    "for line3 in ft:\n",
    "    isempty3 = line3.isspace()\n",
    "    if (not isempty2) or isempty1 or isempty3:\n",
    "        ft_new.write(line2)\n",
    "    \n",
    "    line1 = line2\n",
    "    line2 = line3\n",
    "    isempty1 = isempty2\n",
    "    isempty2 = isempty3\n",
    "    \n",
    "ft_new.write(line3)\n",
    "\n",
    "ft.close()\n",
    "ft_new.close()"
   ]
  },
  {
   "cell_type": "code",
   "execution_count": 142,
   "metadata": {
    "collapsed": true
   },
   "outputs": [],
   "source": [
    "# ## save each entry as separate text file\n",
    "# ft = open(\"tables_clean.txt\", 'r')\n",
    "# l = []\n",
    "\n",
    "    "
   ]
  },
  {
   "cell_type": "code",
   "execution_count": 143,
   "metadata": {
    "collapsed": false
   },
   "outputs": [],
   "source": [
    "# ## strip out quotations and save to new file\n",
    "# ft = open(\"tables_clean.txt\", 'r', encoding='utf8')\n",
    "# ft_new = open(\"tables_noquotes.txt\", 'w', encoding='utf8')\n",
    "# ft_quotes = open(\"quotations.txt\", 'w')\n",
    "\n",
    "# line1 = ft.readline()\n",
    "\n",
    "# for line2 in ft:\n",
    "\n",
    "#     if \"\\u2014\" in line2[0]: # \\u2014 is em dash\n",
    "# #         print(line1, line2)\n",
    "#         ft_quotes.writelines([line1, line2, \"\\n\"])\n",
    "#         line1 = ft.readline()\n",
    "#     else:  \n",
    "#         ft_new.write(line1)\n",
    "#         line1 = line2;\n",
    "\n",
    "# ft.close()\n",
    "# ft_new.close()\n",
    "# ft_quotes.close()"
   ]
  },
  {
   "cell_type": "code",
   "execution_count": 144,
   "metadata": {
    "collapsed": false
   },
   "outputs": [],
   "source": [
    "## input filename, output dictionary of {flavor: [text as list of lines]} pairs\n",
    "ft = open(\"tables_clean.txt\", 'r', encoding='utf8')\n",
    "\n",
    "lines = ft.readlines()\n",
    "\n",
    "flavor = lines[0].lower()\n",
    "text = []\n",
    "flavor_dict = {}\n",
    "\n",
    "for i in range(1, len(lines)-1):\n",
    "    cur = lines[i].rstrip()\n",
    "    \n",
    "    if cur.isupper() and lines[i-1].isspace() and lines[i+1].isspace():\n",
    "        flavor_dict[flavor] = text\n",
    "        flavor = cur.lower()\n",
    "        text = []\n",
    "    else:\n",
    "        text.append(cur)\n",
    "        \n",
    "ft.close()"
   ]
  },
  {
   "cell_type": "code",
   "execution_count": 145,
   "metadata": {
    "collapsed": false
   },
   "outputs": [],
   "source": [
    "## pull out quotations and recommended dishes and put in separate dictionary\n",
    "## can we distinguish \"dishes\" from other quotations?\n",
    "quotation_dict = {}\n",
    "for flavor in flavor_dict:\n",
    "    lines = flavor_dict[flavor]\n",
    "    q = []\n",
    "    ftext = []\n",
    "    quotation_dict[flavor] = {'author': [], 'quotation': []}\n",
    "    for l in lines:\n",
    "        if not l:\n",
    "            if q and \"Dishes\" not in q: ftext.append(q)\n",
    "            q = []\n",
    "        elif \"\\u2014\" in l[0]:\n",
    "            quotation_dict[flavor]['quotation'].append(q)\n",
    "            quotation_dict[flavor]['author'].append(l[1:])\n",
    "            q = []\n",
    "        else:\n",
    "            q.append(l)\n",
    "    flavor_dict[flavor] = ftext"
   ]
  },
  {
   "cell_type": "code",
   "execution_count": 146,
   "metadata": {
    "collapsed": false
   },
   "outputs": [],
   "source": [
    "## strip out Flavor Affinities and put in separate dictionary\n",
    "affinity_dict = {}\n",
    "for flavor in flavor_dict:\n",
    "    lines = list(itertools.chain.from_iterable(flavor_dict[flavor]))\n",
    "#     lines = flavor_dict[flavor]\n",
    "    flaf = []\n",
    "    ftext = []\n",
    "    for l in lines:\n",
    "        if \"+\" in l:\n",
    "            flaf.append(l)\n",
    "        elif \"Flavor Affinit\" not in l:\n",
    "            ftext.append(l)\n",
    "    flavor_dict[flavor] = ftext\n",
    "    affinity_dict[flavor] = flaf"
   ]
  },
  {
   "cell_type": "code",
   "execution_count": 147,
   "metadata": {
    "collapsed": true
   },
   "outputs": [],
   "source": [
    "## strip out \"Avoid\" and put in separate dictionary\n",
    "avoid_dict = {}\n",
    "for flavor in flavor_dict:\n",
    "    ftext = []\n",
    "    avoid = []\n",
    "    is_avoid = False\n",
    "    for l in flavor_dict[flavor]:\n",
    "        if is_avoid:\n",
    "            avoid.append(l)\n",
    "        elif \"AVOID\" in l:\n",
    "            is_avoid = True\n",
    "        else:\n",
    "            ftext.append(l)\n",
    "    flavor_dict[flavor] = ftext\n",
    "    avoid_dict[flavor] = avoid"
   ]
  },
  {
   "cell_type": "code",
   "execution_count": 148,
   "metadata": {
    "collapsed": false
   },
   "outputs": [],
   "source": [
    "## strip out Pairings and put in separate dictionary)\n",
    "pairing_dict = {}\n",
    "keywords = [\"Season:\", \"Taste:\", \"Function:\", \"Weight:\", \"Volume:\", \"Techniques:\", \"Tips:\", \"Techniques/Tips:\"] \n",
    "for flavor in flavor_dict:\n",
    "    plist = []\n",
    "    ftext = []\n",
    "    for l in flavor_dict[flavor]:\n",
    "        if any(word in keywords for word in l.split()):\n",
    "            ftext.append(l)\n",
    "        else:\n",
    "            plist.append(l)\n",
    "    pairing_dict[flavor] = plist\n",
    "    flavor_dict[flavor] = ftext"
   ]
  },
  {
   "cell_type": "code",
   "execution_count": 149,
   "metadata": {
    "collapsed": false
   },
   "outputs": [
    {
     "name": "stdout",
     "output_type": "stream",
     "text": [
      "JOSÉ ANDRÉS, CAFÉ ATLÁNTICO (WASHINGTON, DC) \n",
      " ['I have always been very fond of chef Frédy Girardet [who earned three Michelin stars at his restaurant in Switzerland before retiring in 1996]. When I was young, I cooked almost every recipe from his book and visited his restaurant. One of his most interesting desserts was an apple dessert made of apples in the shape of little balls. The dessert broke away from cooking apples whole in the traditional way, which alone inspired me. He cooked them over a very high heat for two minutes and put them into a red wine reduction that had cinnamon, orange peel, and sugar. This was put onto a sheet tray that needed to be shaken for an hour so the apples would not dry out. The apples would absorb these flavors like a sponge and would then be served with vanilla ice cream.', 'In that spirit, we transformed this dessert. We transformed the wine by “espherication” so that it creates a bubble of liquid that explodes in your mouth. We cut apples with a melon baller, then vacuum-packed the apples with the wine but cooked it in such a way that the apples stayed hard and absorbed the wine flavor.']\n"
     ]
    }
   ],
   "source": [
    "print(quotation_dict['apples']['author'][7], \"\\n\", quotation_dict['apples']['quotation'][7])"
   ]
  },
  {
   "cell_type": "code",
   "execution_count": 162,
   "metadata": {
    "collapsed": false
   },
   "outputs": [],
   "source": [
    "import pickle\n",
    "\n",
    "f_affinity = open(\"affinity.pickle\", 'wb')\n",
    "f_pairing = open(\"pairing.pickle\", 'wb')\n",
    "f_avoid = open(\"avoid.pickle\", 'wb')\n",
    "f_quotation = open(\"quotation.pickle\", 'wb')\n",
    "f_flavor = open(\"flavor.pickle\", 'wb')\n",
    "\n",
    "pickle.dump(affinity_dict, f_affinity)\n",
    "pickle.dump(pairing_dict, f_pairing)\n",
    "pickle.dump(avoid_dict, f_avoid)\n",
    "pickle.dump(quotation_dict, f_quotation)\n",
    "pickle.dump(flavor_dict, f_flavor)\n",
    "\n",
    "f_affinity.close()\n",
    "f_pairing.close()\n",
    "f_avoid.close()\n",
    "f_quotation.close()\n",
    "f_flavor.close()"
   ]
  },
  {
   "cell_type": "code",
   "execution_count": 156,
   "metadata": {
    "collapsed": false
   },
   "outputs": [
    {
     "name": "stdout",
     "output_type": "stream",
     "text": [
      "affinity_dict\t avoid\t avoid_dict\t cur\t flaf\t flavor\t flavor_dict\t ft\t ft_new\t \n",
      "ftext\t i\t is_avoid\t is_flavor_affinity\t isempty1\t isempty2\t isempty3\t item\t itertools\t \n",
      "keywords\t l\t line1\t line2\t line3\t lines\t pairing_dict\t plist\t prev\t \n",
      "q\t quotation_dict\t text\t vals\t \n"
     ]
    }
   ],
   "source": [
    "who"
   ]
  },
  {
   "cell_type": "code",
   "execution_count": null,
   "metadata": {
    "collapsed": true
   },
   "outputs": [],
   "source": []
  }
 ],
 "metadata": {
  "kernelspec": {
   "display_name": "Python 3",
   "language": "python",
   "name": "python3"
  },
  "language_info": {
   "codemirror_mode": {
    "name": "ipython",
    "version": 3
   },
   "file_extension": ".py",
   "mimetype": "text/x-python",
   "name": "python",
   "nbconvert_exporter": "python",
   "pygments_lexer": "ipython3",
   "version": "3.4.4"
  }
 },
 "nbformat": 4,
 "nbformat_minor": 0
}
